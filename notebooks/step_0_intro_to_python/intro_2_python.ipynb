{
 "cells": [
  {
   "cell_type": "markdown",
   "id": "62790264-d4e2-458d-9f5d-8a3c0fbe60ec",
   "metadata": {},
   "source": [
    "# Jupyter Notebooks"
   ]
  },
  {
   "cell_type": "markdown",
   "id": "f379d4d7-8795-4581-9a29-b6826da9b828",
   "metadata": {},
   "source": [
    "# Basics\n",
    "\n",
    "## Operators\n",
    "Operators represent a mapping of efficient functions to basic operations in python. Along with variables, these form the basis for all operations in python. More can be found at https://docs.python.org/3/library/operator.html\n",
    "\n",
    "## Data Types\n",
    "Data is represented as different types in python (and pretty much every other programming language). These types indicate the different data that a variable can represent. Three basic types are integers, floats and strings. We can set the value of these using the \"=\" operator. More on python data types can be found at https://docs.python.org/3/library/datatypes.html\n",
    "\n",
    "## Printing\n",
    "Printing the value of a variable "
   ]
  },
  {
   "cell_type": "code",
   "execution_count": 1,
   "id": "5f49aad4-e8ba-40b7-a003-d5e3fb61e0c1",
   "metadata": {},
   "outputs": [
    {
     "name": "stdout",
     "output_type": "stream",
     "text": [
      "x_int is <class 'int'> and has a value of 3\n",
      "x_float is <class 'float'> and has a value of 1.1\n",
      "x_str is <class 'str'> and has a value of 2\n"
     ]
    }
   ],
   "source": [
    "x_int = 3\n",
    "x_float = 1.1\n",
    "x_str = \"2\"\n",
    "\n",
    "print(f'x_int is {type(x_int)} and has a value of {x_int}')\n",
    "print(f'x_float is {type(x_float)} and has a value of {x_float}')\n",
    "print(f'x_str is {type(x_str)} and has a value of {x_str}')"
   ]
  },
  {
   "cell_type": "markdown",
   "id": "84d040e7-c8d1-41fb-8917-4cca1e81a64d",
   "metadata": {},
   "source": [
    "We can convert between classes using the built in python functions (more on functions later). Notice how converting the float to an int results in a rounding (truncation) after the decimal. "
   ]
  },
  {
   "cell_type": "code",
   "execution_count": 2,
   "id": "0e653051-5128-47b5-9c0d-5d087d941a1b",
   "metadata": {},
   "outputs": [
    {
     "name": "stdout",
     "output_type": "stream",
     "text": [
      "x_int_str is <class 'str'> and has a value of 3\n",
      "x_float_int is <class 'int'> and has a value of 1\n",
      "x_str_int is <class 'int'> and has a value of 2\n"
     ]
    }
   ],
   "source": [
    "x_int_str = str(x_int)\n",
    "x_float_int = int(x_float)\n",
    "x_str_int = int(x_str)\n",
    "\n",
    "print(f'x_int_str is {type(x_int_str)} and has a value of {x_int_str}')\n",
    "print(f'x_float_int is {type(x_float_int)} and has a value of {x_float_int}')\n",
    "print(f'x_str_int is {type(x_str_int)} and has a value of {x_str_int}')"
   ]
  },
  {
   "cell_type": "markdown",
   "id": "49e41672-d61d-4c86-aa91-2d5c84f39354",
   "metadata": {},
   "source": [
    "We can also perform operations on different data types. It is important to note that python converts mixed operations up to the most complex variable. As an example, subtracting an int from a float will result in an implicit conversion of the integer data type to a float and will produce a float. This is not true for all languages, so it is best practice generally to convert all data to the same type. "
   ]
  },
  {
   "cell_type": "code",
   "execution_count": 3,
   "id": "3be6a76d-8a94-4e0a-8e49-1183bc19d60d",
   "metadata": {},
   "outputs": [
    {
     "name": "stdout",
     "output_type": "stream",
     "text": [
      "1.9\n"
     ]
    }
   ],
   "source": [
    "print(x_int - x_float)"
   ]
  },
  {
   "cell_type": "markdown",
   "id": "7fed79a8-29e9-448b-be70-0212dc51d437",
   "metadata": {},
   "source": [
    "However, implicit conversion is not always possible, as in the following case:"
   ]
  },
  {
   "cell_type": "code",
   "execution_count": 4,
   "id": "5b134279-a504-4968-86d1-71427e847908",
   "metadata": {},
   "outputs": [],
   "source": [
    "#print(x_int - x_str)"
   ]
  },
  {
   "cell_type": "markdown",
   "id": "a21935a5-c1ce-43bd-b69d-42e24b5a7fb8",
   "metadata": {},
   "source": [
    "We can fix this by converting the string to an integer "
   ]
  },
  {
   "cell_type": "code",
   "execution_count": 5,
   "id": "af5c8b9e-02ac-4573-a9fb-d1611f2fe8ac",
   "metadata": {},
   "outputs": [
    {
     "name": "stdout",
     "output_type": "stream",
     "text": [
      "1\n"
     ]
    }
   ],
   "source": [
    "print(x_int - int(x_str))"
   ]
  },
  {
   "cell_type": "markdown",
   "id": "12244564-890f-4530-875a-d9d936b23ad2",
   "metadata": {},
   "source": [
    "## More Complex Data Types\n",
    "\n",
    "Besides integers, floats and strings, other more complex data types exist. Three of these are the tuple, the list and the dictionary. These can serve to store multiple data types together in a single variables."
   ]
  },
  {
   "cell_type": "code",
   "execution_count": 6,
   "id": "aea19274-bcb6-4cb9-b1ea-0eb064398af7",
   "metadata": {},
   "outputs": [
    {
     "name": "stdout",
     "output_type": "stream",
     "text": [
      "x_tuple is <class 'tuple'> and has a value of (0, 1, 2)\n"
     ]
    }
   ],
   "source": [
    "x_tuple = (0,1,2)\n",
    "print(f'x_tuple is {type(x_tuple)} and has a value of {x_tuple}')"
   ]
  },
  {
   "cell_type": "markdown",
   "id": "a2ae897f-0dda-445d-a90c-a6783223a69b",
   "metadata": {},
   "source": [
    "It is important to note that not all types can be directly converted to other types. For example, converting a tuple to a float does not make sense. However, converting each element of a tuple to a float does make sense. "
   ]
  },
  {
   "cell_type": "code",
   "execution_count": 7,
   "id": "1785b5b5-e3c4-4e7e-a128-ef20d77123c4",
   "metadata": {},
   "outputs": [],
   "source": [
    "#float(x_tuple)"
   ]
  },
  {
   "cell_type": "markdown",
   "id": "0f0cf75d-70f7-4f66-b6f0-19cfb118e1fc",
   "metadata": {},
   "source": [
    "However, we can apply the float type conversion to each element of a tuple using the map function and then converting back to a tuple. "
   ]
  },
  {
   "cell_type": "code",
   "execution_count": 8,
   "id": "c9a78177-a449-4fa8-9aa7-c24b6786bf3b",
   "metadata": {},
   "outputs": [
    {
     "data": {
      "text/plain": [
       "(0.0, 1.0, 2.0)"
      ]
     },
     "execution_count": 8,
     "metadata": {},
     "output_type": "execute_result"
    }
   ],
   "source": [
    "tuple(map(float, x_tuple))"
   ]
  },
  {
   "cell_type": "code",
   "execution_count": 9,
   "id": "9cdaa138-a085-40d7-bcc9-a0a88e44dfce",
   "metadata": {},
   "outputs": [
    {
     "name": "stdout",
     "output_type": "stream",
     "text": [
      "x=0;y=1;z=2\n"
     ]
    }
   ],
   "source": [
    "# We can access elements of a tuple using the following approach\n",
    "\n",
    "x, y, z = x_tuple\n",
    "\n",
    "print(f'x={x};y={y};z={z}')"
   ]
  },
  {
   "cell_type": "code",
   "execution_count": 10,
   "id": "5a2c6f1c-62a5-4f16-938a-db9684cfe7d1",
   "metadata": {},
   "outputs": [
    {
     "name": "stdout",
     "output_type": "stream",
     "text": [
      "y=1\n"
     ]
    }
   ],
   "source": [
    "# Or we can access specific elements of a tuple using the following approach\n",
    "\n",
    "_, y, _ = x_tuple\n",
    "\n",
    "print(f'y={y}')"
   ]
  },
  {
   "cell_type": "markdown",
   "id": "3266aa7c-698c-466c-bbb4-289840455ac5",
   "metadata": {},
   "source": [
    "## Lists\n",
    "\n",
    "Lists serve as a collection of indexed elements grouped together. Where tuples are accessible through the \"=\" operator, list elements can be accessed via an index (similar to an array). "
   ]
  },
  {
   "cell_type": "code",
   "execution_count": 11,
   "id": "4fc54635-2ce1-4153-8b42-9d761e2a9aab",
   "metadata": {},
   "outputs": [
    {
     "name": "stdout",
     "output_type": "stream",
     "text": [
      "x_list is <class 'list'> and has a value of [1, 2, 3]\n"
     ]
    }
   ],
   "source": [
    "x_list = [1, 2, 3]\n",
    "print(f'x_list is {type(x_list)} and has a value of {x_list}')"
   ]
  },
  {
   "cell_type": "code",
   "execution_count": 12,
   "id": "73ee3224-e137-4578-94ca-6d1829174f39",
   "metadata": {},
   "outputs": [
    {
     "name": "stdout",
     "output_type": "stream",
     "text": [
      "The second element of the list has value 2\n",
      "The sum of the first and second elements of the list is 3\n",
      "The length of the list is 3\n"
     ]
    }
   ],
   "source": [
    "print(f'The second element of the list has value {x_list[1]}')\n",
    "print(f'The sum of the first and second elements of the list is {x_list[0]+x_list[1]}')\n",
    "print(f'The length of the list is {len(x_list)}')"
   ]
  },
  {
   "cell_type": "code",
   "execution_count": 13,
   "id": "126b6e8b-5d78-4903-9f56-bd7926b9c3ec",
   "metadata": {},
   "outputs": [
    {
     "name": "stdout",
     "output_type": "stream",
     "text": [
      "x_list is <class 'list'> and has a value of [1, 2, 3, 4]\n",
      "x_list is <class 'list'> and has a value of [1, 2, 3]\n"
     ]
    }
   ],
   "source": [
    "# We can also add new elements to a list using the append operator\n",
    "\n",
    "x_list.append(4)\n",
    "print(f'x_list is {type(x_list)} and has a value of {x_list}')\n",
    "\n",
    "# Elements can be deleted as well\n",
    "\n",
    "x_list.remove(4)\n",
    "print(f'x_list is {type(x_list)} and has a value of {x_list}')"
   ]
  },
  {
   "cell_type": "markdown",
   "id": "2f888c4c-2631-48e5-b857-589baa1f918e",
   "metadata": {},
   "source": [
    "## Dictionaries\n",
    "\n",
    "Dictionaries serve as a mapping between key:value pairs. Unlike lists, in which the index of each element is an integer, begins at 0 and increased uniformly for all elements, the key (similar to an index in a list) for each value (element) is not limited by type. This provides a great deal of flexibility in data storage when using a dictionary. "
   ]
  },
  {
   "cell_type": "code",
   "execution_count": 14,
   "id": "7b15b8f6-e66c-487b-8319-133ad1867d9b",
   "metadata": {},
   "outputs": [
    {
     "name": "stdout",
     "output_type": "stream",
     "text": [
      "x_dict is <class 'dict'> and has a value of {0: '1', 1.0: '2', 'dog': 3}\n"
     ]
    }
   ],
   "source": [
    "x_dict = {0:'1', 1.0:'2', 'dog': 3}\n",
    "print(f'x_dict is {type(x_dict)} and has a value of {x_dict}')"
   ]
  },
  {
   "cell_type": "code",
   "execution_count": 15,
   "id": "d8c97c4d-5253-4210-bd5b-60563b11b986",
   "metadata": {},
   "outputs": [
    {
     "name": "stdout",
     "output_type": "stream",
     "text": [
      "x_dict has keys dict_keys([0, 1.0, 'dog'])\n",
      "x_dict has values dict_values(['1', '2', 3])\n"
     ]
    }
   ],
   "source": [
    "# We can print all of the keys and values\n",
    "\n",
    "print(f'x_dict has keys {x_dict.keys()}')\n",
    "print(f'x_dict has values {x_dict.values()}')"
   ]
  },
  {
   "cell_type": "code",
   "execution_count": 16,
   "id": "fd95addc-f270-4996-baa0-6b2b3b40a7e6",
   "metadata": {},
   "outputs": [
    {
     "name": "stdout",
     "output_type": "stream",
     "text": [
      "x_dict is <class 'dict'> and has a value of {0: '1', 1.0: '2', 'dog': 3, 'opensuse': 4}\n",
      "x_dict is <class 'dict'> and has a value of {0: '1', 1.0: '2', 'dog': 3}\n"
     ]
    }
   ],
   "source": [
    "# We can add new elements simply by specifying a new key:value pair\n",
    "\n",
    "x_dict['opensuse'] = 4\n",
    "print(f'x_dict is {type(x_dict)} and has a value of {x_dict}')\n",
    "\n",
    "x_dict.pop('opensuse')\n",
    "print(f'x_dict is {type(x_dict)} and has a value of {x_dict}')"
   ]
  },
  {
   "cell_type": "markdown",
   "id": "4386e041-1917-4884-b10c-d881dd477cc4",
   "metadata": {},
   "source": [
    "# Functions\n",
    "\n",
    "Python is a high-level, general purpose programming language first released in 1991 by Guido van Rossum. Since then, it has become one of the most used languages in the world, and represents the *lingua franca* of data science. This notebook serves as a basic introduction to python. This tutorial neither serves as a comprehensive overview of python nor as a deep technical dive of any particular topic. The purpose is to provide basic principles of python and Jupyter to facilitate the other tutorials.\n",
    "\n",
    "Python provides functionality through the use of packages. These packages can be accessed through the import command. Packages help to extend functionality by providing new abilities and improve performance by providing access to functions written in faster coding languages (C/C++/Rust). To access packages, we just use the import command."
   ]
  },
  {
   "cell_type": "code",
   "execution_count": 17,
   "id": "dc10d8ff-2e4b-4cf7-afe5-c7d766fed6c7",
   "metadata": {},
   "outputs": [],
   "source": [
    "def calc_mean(x):\n",
    "    x_sum = 0\n",
    "    for x0 in x:\n",
    "        x_sum += x0\n",
    "    x_mean = x_sum / len(x)\n",
    "    return x_mean"
   ]
  },
  {
   "cell_type": "code",
   "execution_count": 18,
   "id": "eaa0b678-bd18-4099-abf8-45df4f29d76d",
   "metadata": {},
   "outputs": [
    {
     "name": "stdout",
     "output_type": "stream",
     "text": [
      "x_list has mean 2.0\n"
     ]
    }
   ],
   "source": [
    "x_list_mean = calc_mean(x_list)\n",
    "print(f'x_list has mean {x_list_mean}')"
   ]
  },
  {
   "cell_type": "markdown",
   "id": "4c886866-8ea3-4dcd-a570-2d4f746cc73c",
   "metadata": {},
   "source": [
    "# Packages\n",
    "\n",
    "## Numpy\n",
    "\n",
    "NumPy is a fundamental scientific computing package available in python. Along with SciPy and Matplotlib, it forms a core group of scientific computing resources. For more information see https://numpy.org"
   ]
  },
  {
   "cell_type": "code",
   "execution_count": 19,
   "id": "78a69faf-9df1-41b9-b616-270683c614b4",
   "metadata": {},
   "outputs": [],
   "source": [
    "import numpy as np\n",
    "from time import process_time"
   ]
  },
  {
   "cell_type": "code",
   "execution_count": 20,
   "id": "494a8dcc-322e-4e3a-beda-1164c0aa8f2b",
   "metadata": {},
   "outputs": [
    {
     "name": "stdout",
     "output_type": "stream",
     "text": [
      "> Python function returned value 0.49996989021833904 in 13.5 seconds\n",
      "> Numpy function returned value 0.4999698902181744 in 0.15625 seconds\n"
     ]
    }
   ],
   "source": [
    "n_samples = int(1e8)\n",
    "\n",
    "x = np.random.random(n_samples)\n",
    "t0 = process_time()\n",
    "x_mean = calc_mean(x)\n",
    "t1 = process_time()\n",
    "print(f'> Python function returned value {x_mean} in {t1-t0} seconds')\n",
    "\n",
    "t0 = process_time()\n",
    "x_mean = np.mean(x)\n",
    "t1 = process_time()\n",
    "print(f'> Numpy function returned value {x_mean} in {t1-t0} seconds')"
   ]
  },
  {
   "cell_type": "markdown",
   "id": "7d5f19b3-e4a0-4991-9e88-d96388fb5e0e",
   "metadata": {},
   "source": [
    "## Pandas\n",
    "\n",
    "Pandas is a flexible data manipulation tool built on top of python (and available in other languages). It is a staple of data manipulation in data science. For more information see https://pandas.pydata.org"
   ]
  },
  {
   "cell_type": "code",
   "execution_count": 21,
   "id": "c5e4fd94-4416-426f-a546-2289df09bc2a",
   "metadata": {},
   "outputs": [],
   "source": [
    "import pandas as pd"
   ]
  },
  {
   "cell_type": "code",
   "execution_count": 22,
   "id": "24ca6ac3-c067-4070-9ae8-3a9e99f8d0a7",
   "metadata": {},
   "outputs": [
    {
     "data": {
      "text/html": [
       "<div>\n",
       "<style scoped>\n",
       "    .dataframe tbody tr th:only-of-type {\n",
       "        vertical-align: middle;\n",
       "    }\n",
       "\n",
       "    .dataframe tbody tr th {\n",
       "        vertical-align: top;\n",
       "    }\n",
       "\n",
       "    .dataframe thead th {\n",
       "        text-align: right;\n",
       "    }\n",
       "</style>\n",
       "<table border=\"1\" class=\"dataframe\">\n",
       "  <thead>\n",
       "    <tr style=\"text-align: right;\">\n",
       "      <th></th>\n",
       "      <th>values</th>\n",
       "    </tr>\n",
       "  </thead>\n",
       "  <tbody>\n",
       "    <tr>\n",
       "      <th>0</th>\n",
       "      <td>0.066640</td>\n",
       "    </tr>\n",
       "    <tr>\n",
       "      <th>1</th>\n",
       "      <td>0.694262</td>\n",
       "    </tr>\n",
       "    <tr>\n",
       "      <th>2</th>\n",
       "      <td>0.542817</td>\n",
       "    </tr>\n",
       "    <tr>\n",
       "      <th>3</th>\n",
       "      <td>0.352289</td>\n",
       "    </tr>\n",
       "    <tr>\n",
       "      <th>4</th>\n",
       "      <td>0.957097</td>\n",
       "    </tr>\n",
       "    <tr>\n",
       "      <th>...</th>\n",
       "      <td>...</td>\n",
       "    </tr>\n",
       "    <tr>\n",
       "      <th>99999995</th>\n",
       "      <td>0.712517</td>\n",
       "    </tr>\n",
       "    <tr>\n",
       "      <th>99999996</th>\n",
       "      <td>0.981184</td>\n",
       "    </tr>\n",
       "    <tr>\n",
       "      <th>99999997</th>\n",
       "      <td>0.698013</td>\n",
       "    </tr>\n",
       "    <tr>\n",
       "      <th>99999998</th>\n",
       "      <td>0.741049</td>\n",
       "    </tr>\n",
       "    <tr>\n",
       "      <th>99999999</th>\n",
       "      <td>0.152305</td>\n",
       "    </tr>\n",
       "  </tbody>\n",
       "</table>\n",
       "<p>100000000 rows × 1 columns</p>\n",
       "</div>"
      ],
      "text/plain": [
       "            values\n",
       "0         0.066640\n",
       "1         0.694262\n",
       "2         0.542817\n",
       "3         0.352289\n",
       "4         0.957097\n",
       "...            ...\n",
       "99999995  0.712517\n",
       "99999996  0.981184\n",
       "99999997  0.698013\n",
       "99999998  0.741049\n",
       "99999999  0.152305\n",
       "\n",
       "[100000000 rows x 1 columns]"
      ]
     },
     "execution_count": 22,
     "metadata": {},
     "output_type": "execute_result"
    }
   ],
   "source": [
    "df = pd.DataFrame(x, columns=['values'])\n",
    "df"
   ]
  },
  {
   "cell_type": "code",
   "execution_count": 23,
   "id": "22470418-b8f9-44e3-b937-d8bfce0720d0",
   "metadata": {},
   "outputs": [
    {
     "name": "stdout",
     "output_type": "stream",
     "text": [
      "> Pandas function returned value values    0.49997\n",
      "dtype: float64 in 0.296875 seconds\n"
     ]
    }
   ],
   "source": [
    "t0 = process_time()\n",
    "x_mean = df.mean()\n",
    "t1 = process_time()\n",
    "print(f'> Pandas function returned value {x_mean} in {t1-t0} seconds')"
   ]
  },
  {
   "cell_type": "markdown",
   "id": "5428f938-b00d-4683-a34c-4cf242639889",
   "metadata": {},
   "source": [
    "## Scikit Learn\n",
    "\n",
    "Scikit-Learn offers simple, flexible tools for machine learning and predictive analytics. It is the *de facto* package for machine learning and provides tools to support all phases of the machine learning life cycle. For more information see https://scikit-learn.org/stable/"
   ]
  },
  {
   "cell_type": "code",
   "execution_count": 24,
   "id": "42158839-7b31-4f5f-a046-110659e5ca8f",
   "metadata": {},
   "outputs": [],
   "source": [
    "from sklearn.ensemble import RandomForestClassifier\n",
    "from sklearn.datasets import make_classification\n",
    "from sklearn.model_selection import train_test_split\n",
    "from sklearn.metrics import roc_auc_score"
   ]
  },
  {
   "cell_type": "code",
   "execution_count": 25,
   "id": "fe3b44f1-c3b5-435c-91e8-04ddf2c932dd",
   "metadata": {},
   "outputs": [
    {
     "name": "stdout",
     "output_type": "stream",
     "text": [
      "[[-2.69544515 -1.69341893  1.78504868]\n",
      " [ 0.69356288  1.46843332  1.25232292]\n",
      " [ 1.21260162 -1.31346584 -1.78104389]\n",
      " ...\n",
      " [-0.22831571  1.62102379  1.47278412]\n",
      " [-0.1637844   2.18549166 -1.60545869]\n",
      " [-0.37250378  1.55628482  1.19283399]]\n",
      "[1 1 0 1 0 0 1 0 1 1 1 0 1 0 0 0 1 1 1 1 1 1 1 0 0 1 1 0 0 1 1 1 1 0 0 0 0\n",
      " 1 1 0 0 0 0 0 0 0 0 0 0 1 1 0 1 0 1 1 1 0 0 1 1 0 1 0 1 1 0 1 0 1 1 0 1 1\n",
      " 0 1 1 1 0 0 1 0 1 0 1 1 1 0 0 0 1 1 1 0 1 1 0 0 0 1 1 0 1 0 1 0 1 0 0 0 1\n",
      " 0 0 0 1 1 0 0 0 0 1 0 0 0 1 0 1 0 1 0 1 0 1 1 0 0 1 0 0 0 1 1 0 0 1 0 0 0\n",
      " 1 0 1 0 1 1 1 0 0 1 0 1 1 0 1 0 1 1 1 1 1 1 0 1 0 0 1 0 0 0 1 0 1 0 0 0 0\n",
      " 1 1 0 0 0 1 0 1 0 0 0 0 0 1 0 0 0 0 0 1 0 0 0 0 1 0 0 0 0 1 1 1 0 1 0 0 0\n",
      " 0 1 1 1 1 0 1 1 1 1 1 0 1 0 1 0 1 1 0 1 0 1 0 1 0 1 0 1 1 0 1 0 1 0 0 1 0\n",
      " 0 0 0 1 1 0 1 1 1 1 0 1 0 1 1 1 0 0 0 0 1 0 0 1 0 1 0 0 0 0 0 1 0 1 1 1 1\n",
      " 1 1 0 1 0 0 1 0 1 0 0 0 1 0 0 1 0 1 1 1 1 1 1 1 1 0 1 1 1 0 1 0 1 0 0 0 0\n",
      " 0 0 0 1 0 1 1 0 0 0 1 1 0 1 0 1 1 1 1 1 1 1 1 1 0 1 0 1 0 1 0 0 1 0 1 0 0\n",
      " 1 0 0 0 1 0 0 1 1 0 1 1 0 1 0 0 1 1 0 0 0 0 1 0 1 1 1 0 1 1 1 1 0 1 0 0 1\n",
      " 1 1 1 1 1 1 0 0 0 1 0 0 0 1 1 0 0 1 0 0 1 1 1 0 0 1 0 0 1 1 1 0 0 0 0 0 0\n",
      " 1 1 1 1 1 0 0 0 1 0 0 1 1 0 0 1 1 0 0 1 1 0 1 1 0 1 1 0 0 0 1 0 1 0 0 0 0\n",
      " 0 1 0 1 0 1 1 1 0 0 0 1 0 0 0 0 1 0 0 0 0 0 0 0 0 1 0 1 1 1 0 0 1 1 1 0 1\n",
      " 1 1 0 0 0 1 1 1 0 0 0 1 1 1 1 0 1 1 1 1 0 1 1 0 1 1 0 1 0 0 1 1 0 0 0 1 0\n",
      " 0 0 1 1 0 1 0 1 1 0 1 1 1 1 1 0 0 1 1 0 0 0 0 0 0 1 1 1 1 0 0 0 0 1 1 0 1\n",
      " 0 0 1 1 1 1 1 0 0 1 0 0 0 0 1 1 0 1 1 1 0 1 1 0 1 1 1 0 0 1 0 1 1 0 1 1 1\n",
      " 0 1 1 0 1 1 0 1 1 1 1 0 0 1 0 0 1 1 0 1 1 0 1 0 0 0 0 1 1 1 0 1 0 0 1 0 0\n",
      " 0 1 0 1 1 1 1 0 0 0 1 1 0 0 1 1 0 0 1 0 0 1 0 1 0 1 1 1 0 0 0 0 1 0 0 1 1\n",
      " 0 0 1 0 0 0 0 1 1 1 0 1 0 0 1 1 0 0 1 1 0 0 0 1 1 1 0 0 1 0 0 1 0 0 0 0 0\n",
      " 0 0 0 0 0 1 1 1 1 1 1 0 0 1 1 1 0 1 1 0 0 0 1 0 0 0 1 1 0 1 0 1 0 0 1 1 1\n",
      " 1 0 1 1 0 0 0 1 0 1 1 1 1 0 1 0 1 1 1 0 1 0 1 1 0 1 1 0 0 1 0 1 1 1 1 1 1\n",
      " 0 1 0 1 1 1 1 0 0 1 0 0 0 0 0 1 1 0 0 1 0 0 0 1 0 1 0 0 0 1 1 0 1 1 1 1 0\n",
      " 1 1 1 0 1 1 0 1 1 1 0 1 0 0 1 1 1 0 0 1 1 0 1 0 0 1 1 1 1 1 0 0 1 0 0 0 0\n",
      " 1 1 0 0 1 1 0 0 1 0 1 0 0 1 1 0 0 1 1 0 0 1 0 1 1 0 0 0 0 1 1 1 0 1 1 1 1\n",
      " 0 0 0 0 1 1 0 0 1 0 0 0 0 1 0 0 1 1 1 1 1 0 1 1 0 0 0 1 1 0 0 0 1 1 1 1 1\n",
      " 0 0 1 1 0 0 0 0 1 1 1 1 1 0 0 1 0 1 0 1 0 0 1 1 1 1 1 0 0 1 0 0 1 1 1 1 0\n",
      " 1]\n"
     ]
    }
   ],
   "source": [
    "# Create a fake dataset\n",
    "X, y = make_classification(n_samples=1000, n_features=3, n_redundant=0, n_repeated=0, n_classes=2, class_sep=1.5)\n",
    "print(X)\n",
    "print(y)"
   ]
  },
  {
   "cell_type": "code",
   "execution_count": 26,
   "id": "6a469c5b-988f-4eca-aeca-8ffd997d8d8f",
   "metadata": {},
   "outputs": [],
   "source": [
    "# Split the data into a train and a test\n",
    "X_train, X_test, y_train, y_test = train_test_split(X, y, test_size=0.3, stratify=y) "
   ]
  },
  {
   "cell_type": "code",
   "execution_count": 27,
   "id": "c4d5ffe8-2518-4215-8aff-a87d23897882",
   "metadata": {},
   "outputs": [],
   "source": [
    "# Instantiate the classifier\n",
    "est = RandomForestClassifier()"
   ]
  },
  {
   "cell_type": "code",
   "execution_count": 28,
   "id": "311c658a-01ce-44ed-a6b6-2c11ab435e7b",
   "metadata": {},
   "outputs": [
    {
     "data": {
      "text/html": [
       "<style>#sk-container-id-1 {color: black;}#sk-container-id-1 pre{padding: 0;}#sk-container-id-1 div.sk-toggleable {background-color: white;}#sk-container-id-1 label.sk-toggleable__label {cursor: pointer;display: block;width: 100%;margin-bottom: 0;padding: 0.3em;box-sizing: border-box;text-align: center;}#sk-container-id-1 label.sk-toggleable__label-arrow:before {content: \"▸\";float: left;margin-right: 0.25em;color: #696969;}#sk-container-id-1 label.sk-toggleable__label-arrow:hover:before {color: black;}#sk-container-id-1 div.sk-estimator:hover label.sk-toggleable__label-arrow:before {color: black;}#sk-container-id-1 div.sk-toggleable__content {max-height: 0;max-width: 0;overflow: hidden;text-align: left;background-color: #f0f8ff;}#sk-container-id-1 div.sk-toggleable__content pre {margin: 0.2em;color: black;border-radius: 0.25em;background-color: #f0f8ff;}#sk-container-id-1 input.sk-toggleable__control:checked~div.sk-toggleable__content {max-height: 200px;max-width: 100%;overflow: auto;}#sk-container-id-1 input.sk-toggleable__control:checked~label.sk-toggleable__label-arrow:before {content: \"▾\";}#sk-container-id-1 div.sk-estimator input.sk-toggleable__control:checked~label.sk-toggleable__label {background-color: #d4ebff;}#sk-container-id-1 div.sk-label input.sk-toggleable__control:checked~label.sk-toggleable__label {background-color: #d4ebff;}#sk-container-id-1 input.sk-hidden--visually {border: 0;clip: rect(1px 1px 1px 1px);clip: rect(1px, 1px, 1px, 1px);height: 1px;margin: -1px;overflow: hidden;padding: 0;position: absolute;width: 1px;}#sk-container-id-1 div.sk-estimator {font-family: monospace;background-color: #f0f8ff;border: 1px dotted black;border-radius: 0.25em;box-sizing: border-box;margin-bottom: 0.5em;}#sk-container-id-1 div.sk-estimator:hover {background-color: #d4ebff;}#sk-container-id-1 div.sk-parallel-item::after {content: \"\";width: 100%;border-bottom: 1px solid gray;flex-grow: 1;}#sk-container-id-1 div.sk-label:hover label.sk-toggleable__label {background-color: #d4ebff;}#sk-container-id-1 div.sk-serial::before {content: \"\";position: absolute;border-left: 1px solid gray;box-sizing: border-box;top: 0;bottom: 0;left: 50%;z-index: 0;}#sk-container-id-1 div.sk-serial {display: flex;flex-direction: column;align-items: center;background-color: white;padding-right: 0.2em;padding-left: 0.2em;position: relative;}#sk-container-id-1 div.sk-item {position: relative;z-index: 1;}#sk-container-id-1 div.sk-parallel {display: flex;align-items: stretch;justify-content: center;background-color: white;position: relative;}#sk-container-id-1 div.sk-item::before, #sk-container-id-1 div.sk-parallel-item::before {content: \"\";position: absolute;border-left: 1px solid gray;box-sizing: border-box;top: 0;bottom: 0;left: 50%;z-index: -1;}#sk-container-id-1 div.sk-parallel-item {display: flex;flex-direction: column;z-index: 1;position: relative;background-color: white;}#sk-container-id-1 div.sk-parallel-item:first-child::after {align-self: flex-end;width: 50%;}#sk-container-id-1 div.sk-parallel-item:last-child::after {align-self: flex-start;width: 50%;}#sk-container-id-1 div.sk-parallel-item:only-child::after {width: 0;}#sk-container-id-1 div.sk-dashed-wrapped {border: 1px dashed gray;margin: 0 0.4em 0.5em 0.4em;box-sizing: border-box;padding-bottom: 0.4em;background-color: white;}#sk-container-id-1 div.sk-label label {font-family: monospace;font-weight: bold;display: inline-block;line-height: 1.2em;}#sk-container-id-1 div.sk-label-container {text-align: center;}#sk-container-id-1 div.sk-container {/* jupyter's `normalize.less` sets `[hidden] { display: none; }` but bootstrap.min.css set `[hidden] { display: none !important; }` so we also need the `!important` here to be able to override the default hidden behavior on the sphinx rendered scikit-learn.org. See: https://github.com/scikit-learn/scikit-learn/issues/21755 */display: inline-block !important;position: relative;}#sk-container-id-1 div.sk-text-repr-fallback {display: none;}</style><div id=\"sk-container-id-1\" class=\"sk-top-container\"><div class=\"sk-text-repr-fallback\"><pre>RandomForestClassifier()</pre><b>In a Jupyter environment, please rerun this cell to show the HTML representation or trust the notebook. <br />On GitHub, the HTML representation is unable to render, please try loading this page with nbviewer.org.</b></div><div class=\"sk-container\" hidden><div class=\"sk-item\"><div class=\"sk-estimator sk-toggleable\"><input class=\"sk-toggleable__control sk-hidden--visually\" id=\"sk-estimator-id-1\" type=\"checkbox\" checked><label for=\"sk-estimator-id-1\" class=\"sk-toggleable__label sk-toggleable__label-arrow\">RandomForestClassifier</label><div class=\"sk-toggleable__content\"><pre>RandomForestClassifier()</pre></div></div></div></div></div>"
      ],
      "text/plain": [
       "RandomForestClassifier()"
      ]
     },
     "execution_count": 28,
     "metadata": {},
     "output_type": "execute_result"
    }
   ],
   "source": [
    "# Fit the classifier to the training data\n",
    "est.fit(X_train, y_train)"
   ]
  },
  {
   "cell_type": "code",
   "execution_count": 29,
   "id": "a4b27ee4-fc8e-4d16-b563-132a6537f94c",
   "metadata": {},
   "outputs": [],
   "source": [
    "# Make a prediction on the test data\n",
    "y_pred = est.predict(X_test)"
   ]
  },
  {
   "cell_type": "code",
   "execution_count": 30,
   "id": "bf56aeec-0e37-4766-947c-1aec1f1e94a3",
   "metadata": {},
   "outputs": [
    {
     "data": {
      "text/plain": [
       "0.9767322992132984"
      ]
     },
     "execution_count": 30,
     "metadata": {},
     "output_type": "execute_result"
    }
   ],
   "source": [
    "# Calculate AUC on the test data\n",
    "roc_auc_score(y_test, y_pred)"
   ]
  },
  {
   "cell_type": "code",
   "execution_count": null,
   "id": "ffd5133d-2b96-4ff6-9003-45b2a37f3ea8",
   "metadata": {},
   "outputs": [],
   "source": []
  }
 ],
 "metadata": {
  "kernelspec": {
   "display_name": "Python 3 (ipykernel)",
   "language": "python",
   "name": "python3"
  },
  "language_info": {
   "codemirror_mode": {
    "name": "ipython",
    "version": 3
   },
   "file_extension": ".py",
   "mimetype": "text/x-python",
   "name": "python",
   "nbconvert_exporter": "python",
   "pygments_lexer": "ipython3",
   "version": "3.10.13"
  }
 },
 "nbformat": 4,
 "nbformat_minor": 5
}
