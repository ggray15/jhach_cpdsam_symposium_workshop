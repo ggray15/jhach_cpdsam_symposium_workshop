{
 "cells": [
  {
   "cell_type": "markdown",
   "id": "62790264-d4e2-458d-9f5d-8a3c0fbe60ec",
   "metadata": {},
   "source": [
    "# Jupyter Notebooks"
   ]
  },
  {
   "cell_type": "markdown",
   "id": "f379d4d7-8795-4581-9a29-b6826da9b828",
   "metadata": {},
   "source": [
    "# Basics\n",
    "\n",
    "## Operators\n",
    "Operators represent a mapping of efficient functions to basic operations in python. Along with variables, these form the basis for all operations in python. More can be found at https://docs.python.org/3/library/operator.html\n",
    "\n",
    "## Data Types\n",
    "Data is represented as different types in python (and pretty much every other programming language). These types indicate the different data that a variable can represent. Three basic types are integers, floats and strings. We can set the value of these using the \"=\" operator. More on python data types can be found at https://docs.python.org/3/library/datatypes.html\n",
    "\n",
    "## Printing\n",
    "Printing the value of a variable "
   ]
  },
  {
   "cell_type": "code",
   "execution_count": 4,
   "id": "5f49aad4-e8ba-40b7-a003-d5e3fb61e0c1",
   "metadata": {},
   "outputs": [
    {
     "name": "stdout",
     "output_type": "stream",
     "text": [
      "x_int is <class 'int'> and has a value of 3\n",
      "x_float is <class 'float'> and has a value of 1.1\n",
      "x_str is <class 'str'> and has a value of 2\n"
     ]
    }
   ],
   "source": [
    "x_int = 3\n",
    "x_float = 1.1\n",
    "x_str = \"2\"\n",
    "\n",
    "print(f'x_int is {type(x_int)} and has a value of {x_int}')\n",
    "print(f'x_float is {type(x_float)} and has a value of {x_float}')\n",
    "print(f'x_str is {type(x_str)} and has a value of {x_str}')"
   ]
  },
  {
   "cell_type": "markdown",
   "id": "84d040e7-c8d1-41fb-8917-4cca1e81a64d",
   "metadata": {},
   "source": [
    "We can convert between classes using the built in python functions (more on functions later). Notice how converting the float to an int results in a rounding (truncation) after the decimal. "
   ]
  },
  {
   "cell_type": "code",
   "execution_count": 5,
   "id": "0e653051-5128-47b5-9c0d-5d087d941a1b",
   "metadata": {},
   "outputs": [
    {
     "name": "stdout",
     "output_type": "stream",
     "text": [
      "x_int_str is <class 'str'> and has a value of 3\n",
      "x_float_int is <class 'int'> and has a value of 1\n",
      "x_str_int is <class 'int'> and has a value of 2\n"
     ]
    }
   ],
   "source": [
    "x_int_str = str(x_int)\n",
    "x_float_int = int(x_float)\n",
    "x_str_int = int(x_str)\n",
    "\n",
    "print(f'x_int_str is {type(x_int_str)} and has a value of {x_int_str}')\n",
    "print(f'x_float_int is {type(x_float_int)} and has a value of {x_float_int}')\n",
    "print(f'x_str_int is {type(x_str_int)} and has a value of {x_str_int}')"
   ]
  },
  {
   "cell_type": "markdown",
   "id": "49e41672-d61d-4c86-aa91-2d5c84f39354",
   "metadata": {},
   "source": [
    "We can also perform operations on different data types. It is important to note that python converts mixed operations up to the most complex variable. As an example, subtracting an int from a float will result in an implicit conversion of the integer data type to a float and will produce a float. This is not true for all languages, so it is best practice generally to convert all data to the same type. "
   ]
  },
  {
   "cell_type": "code",
   "execution_count": 6,
   "id": "3be6a76d-8a94-4e0a-8e49-1183bc19d60d",
   "metadata": {},
   "outputs": [
    {
     "name": "stdout",
     "output_type": "stream",
     "text": [
      "1.9\n"
     ]
    }
   ],
   "source": [
    "print(x_int - x_float)"
   ]
  },
  {
   "cell_type": "markdown",
   "id": "7fed79a8-29e9-448b-be70-0212dc51d437",
   "metadata": {},
   "source": [
    "However, implicit conversion is not always possible, as in the following case:"
   ]
  },
  {
   "cell_type": "code",
   "execution_count": 7,
   "id": "5b134279-a504-4968-86d1-71427e847908",
   "metadata": {},
   "outputs": [
    {
     "ename": "TypeError",
     "evalue": "unsupported operand type(s) for -: 'int' and 'str'",
     "output_type": "error",
     "traceback": [
      "\u001b[0;31m---------------------------------------------------------------------------\u001b[0m",
      "\u001b[0;31mTypeError\u001b[0m                                 Traceback (most recent call last)",
      "Cell \u001b[0;32mIn[7], line 1\u001b[0m\n\u001b[0;32m----> 1\u001b[0m \u001b[38;5;28mprint\u001b[39m(\u001b[43mx_int\u001b[49m\u001b[43m \u001b[49m\u001b[38;5;241;43m-\u001b[39;49m\u001b[43m \u001b[49m\u001b[43mx_str\u001b[49m)\n",
      "\u001b[0;31mTypeError\u001b[0m: unsupported operand type(s) for -: 'int' and 'str'"
     ]
    }
   ],
   "source": [
    "print(x_int - x_str)"
   ]
  },
  {
   "cell_type": "markdown",
   "id": "a21935a5-c1ce-43bd-b69d-42e24b5a7fb8",
   "metadata": {},
   "source": [
    "We can fix this by converting the string to an integer "
   ]
  },
  {
   "cell_type": "code",
   "execution_count": null,
   "id": "af5c8b9e-02ac-4573-a9fb-d1611f2fe8ac",
   "metadata": {},
   "outputs": [],
   "source": [
    "print(x_int - int(x_str))"
   ]
  },
  {
   "cell_type": "markdown",
   "id": "12244564-890f-4530-875a-d9d936b23ad2",
   "metadata": {},
   "source": [
    "## More Complex Data Types\n",
    "\n",
    "Besides integers, floats and strings, other more complex data types exist. Three of these are the tuple, the list and the dictionary. These can serve to store multiple data types together in a single variables."
   ]
  },
  {
   "cell_type": "code",
   "execution_count": null,
   "id": "aea19274-bcb6-4cb9-b1ea-0eb064398af7",
   "metadata": {},
   "outputs": [],
   "source": [
    "x_tuple = (0,1,2)\n",
    "print(f'x_tuple is {type(x_tuple)} and has a value of {x_tuple}')"
   ]
  },
  {
   "cell_type": "markdown",
   "id": "a2ae897f-0dda-445d-a90c-a6783223a69b",
   "metadata": {},
   "source": [
    "It is important to note that not all types can be directly converted to other types. For example, converting a tuple to a float does not make sense. However, converting each element of a tuple to a float does make sense. "
   ]
  },
  {
   "cell_type": "code",
   "execution_count": null,
   "id": "1785b5b5-e3c4-4e7e-a128-ef20d77123c4",
   "metadata": {},
   "outputs": [],
   "source": [
    "float(x_tuple)"
   ]
  },
  {
   "cell_type": "markdown",
   "id": "0f0cf75d-70f7-4f66-b6f0-19cfb118e1fc",
   "metadata": {},
   "source": [
    "However, we can apply the float type conversion to each element of a tuple using the map function and then converting back to a tuple. "
   ]
  },
  {
   "cell_type": "code",
   "execution_count": null,
   "id": "c9a78177-a449-4fa8-9aa7-c24b6786bf3b",
   "metadata": {},
   "outputs": [],
   "source": [
    "tuple(map(float, x_tuple))"
   ]
  },
  {
   "cell_type": "code",
   "execution_count": null,
   "id": "9cdaa138-a085-40d7-bcc9-a0a88e44dfce",
   "metadata": {},
   "outputs": [],
   "source": [
    "# We can access elements of a tuple using the following approach\n",
    "\n",
    "x, y, z = x_tuple\n",
    "\n",
    "print(f'x={x};y={y};z={z}')"
   ]
  },
  {
   "cell_type": "code",
   "execution_count": 8,
   "id": "5a2c6f1c-62a5-4f16-938a-db9684cfe7d1",
   "metadata": {},
   "outputs": [
    {
     "ename": "NameError",
     "evalue": "name 'x_tuple' is not defined",
     "output_type": "error",
     "traceback": [
      "\u001b[0;31m---------------------------------------------------------------------------\u001b[0m",
      "\u001b[0;31mNameError\u001b[0m                                 Traceback (most recent call last)",
      "Cell \u001b[0;32mIn[8], line 3\u001b[0m\n\u001b[1;32m      1\u001b[0m \u001b[38;5;66;03m# Or we can access specific elements of a tuple using the following approach\u001b[39;00m\n\u001b[0;32m----> 3\u001b[0m _, y, _ \u001b[38;5;241m=\u001b[39m \u001b[43mx_tuple\u001b[49m\n\u001b[1;32m      5\u001b[0m \u001b[38;5;28mprint\u001b[39m(\u001b[38;5;124mf\u001b[39m\u001b[38;5;124m'\u001b[39m\u001b[38;5;124my=\u001b[39m\u001b[38;5;132;01m{\u001b[39;00my\u001b[38;5;132;01m}\u001b[39;00m\u001b[38;5;124m'\u001b[39m)\n",
      "\u001b[0;31mNameError\u001b[0m: name 'x_tuple' is not defined"
     ]
    }
   ],
   "source": [
    "# Or we can access specific elements of a tuple using the following approach\n",
    "\n",
    "_, y, _ = x_tuple\n",
    "\n",
    "print(f'y={y}')"
   ]
  },
  {
   "cell_type": "markdown",
   "id": "3266aa7c-698c-466c-bbb4-289840455ac5",
   "metadata": {},
   "source": [
    "## Lists\n",
    "\n",
    "Lists serve as a collection of indexed elements grouped together. Where tuples are accessible through the \"=\" operator, list elements can be accessed via an index (similar to an array). "
   ]
  },
  {
   "cell_type": "code",
   "execution_count": null,
   "id": "4fc54635-2ce1-4153-8b42-9d761e2a9aab",
   "metadata": {},
   "outputs": [],
   "source": [
    "x_list = [1, 2, 3]\n",
    "print(f'x_list is {type(x_list)} and has a value of {x_list}')"
   ]
  },
  {
   "cell_type": "code",
   "execution_count": null,
   "id": "73ee3224-e137-4578-94ca-6d1829174f39",
   "metadata": {},
   "outputs": [],
   "source": [
    "print(f'The second element of the list has value {x_list[1]}')\n",
    "print(f'The sum of the first and second elements of the list is {x_list[0]+x_list[1]}')\n",
    "print(f'The length of the list is {len(x_list)}')"
   ]
  },
  {
   "cell_type": "code",
   "execution_count": null,
   "id": "126b6e8b-5d78-4903-9f56-bd7926b9c3ec",
   "metadata": {},
   "outputs": [],
   "source": [
    "# We can also add new elements to a list using the append operator\n",
    "\n",
    "x_list.append(4)\n",
    "print(f'x_list is {type(x_list)} and has a value of {x_list}')\n",
    "\n",
    "# Elements can be deleted as well\n",
    "\n",
    "x_list.remove(4)\n",
    "print(f'x_list is {type(x_list)} and has a value of {x_list}')"
   ]
  },
  {
   "cell_type": "markdown",
   "id": "2f888c4c-2631-48e5-b857-589baa1f918e",
   "metadata": {},
   "source": [
    "## Dictionaries\n",
    "\n",
    "Dictionaries serve as a mapping between key:value pairs. Unlike lists, in which the index of each element is an integer, begins at 0 and increased uniformly for all elements, the key (similar to an index in a list) for each value (element) is not limited by type. This provides a great deal of flexibility in data storage when using a dictionary. "
   ]
  },
  {
   "cell_type": "code",
   "execution_count": null,
   "id": "7b15b8f6-e66c-487b-8319-133ad1867d9b",
   "metadata": {},
   "outputs": [],
   "source": [
    "x_dict = {0:'1', 1.0:'2', 'dog': 3}\n",
    "print(f'x_dict is {type(x_dict)} and has a value of {x_dict}')"
   ]
  },
  {
   "cell_type": "code",
   "execution_count": 9,
   "id": "d8c97c4d-5253-4210-bd5b-60563b11b986",
   "metadata": {},
   "outputs": [
    {
     "ename": "NameError",
     "evalue": "name 'x_dict' is not defined",
     "output_type": "error",
     "traceback": [
      "\u001b[0;31m---------------------------------------------------------------------------\u001b[0m",
      "\u001b[0;31mNameError\u001b[0m                                 Traceback (most recent call last)",
      "Cell \u001b[0;32mIn[9], line 3\u001b[0m\n\u001b[1;32m      1\u001b[0m \u001b[38;5;66;03m# We can print all of the keys and values\u001b[39;00m\n\u001b[0;32m----> 3\u001b[0m \u001b[38;5;28mprint\u001b[39m(\u001b[38;5;124mf\u001b[39m\u001b[38;5;124m'\u001b[39m\u001b[38;5;124mx_dict has keys \u001b[39m\u001b[38;5;132;01m{\u001b[39;00m\u001b[43mx_dict\u001b[49m\u001b[38;5;241m.\u001b[39mkeys()\u001b[38;5;132;01m}\u001b[39;00m\u001b[38;5;124m'\u001b[39m)\n\u001b[1;32m      4\u001b[0m \u001b[38;5;28mprint\u001b[39m(\u001b[38;5;124mf\u001b[39m\u001b[38;5;124m'\u001b[39m\u001b[38;5;124mx_dict has values \u001b[39m\u001b[38;5;132;01m{\u001b[39;00mx_dict\u001b[38;5;241m.\u001b[39mvalues()\u001b[38;5;132;01m}\u001b[39;00m\u001b[38;5;124m'\u001b[39m)\n",
      "\u001b[0;31mNameError\u001b[0m: name 'x_dict' is not defined"
     ]
    }
   ],
   "source": [
    "# We can print all of the keys and values\n",
    "\n",
    "print(f'x_dict has keys {x_dict.keys()}')\n",
    "print(f'x_dict has values {x_dict.values()}')"
   ]
  },
  {
   "cell_type": "code",
   "execution_count": null,
   "id": "fd95addc-f270-4996-baa0-6b2b3b40a7e6",
   "metadata": {},
   "outputs": [],
   "source": [
    "# We can add new elements simply by specifying a new key:value pair\n",
    "\n",
    "x_dict['opensuse'] = 4\n",
    "print(f'x_dict is {type(x_dict)} and has a value of {x_dict}')\n",
    "\n",
    "x_dict.pop('opensuse')\n",
    "print(f'x_dict is {type(x_dict)} and has a value of {x_dict}')"
   ]
  },
  {
   "cell_type": "markdown",
   "id": "4386e041-1917-4884-b10c-d881dd477cc4",
   "metadata": {},
   "source": [
    "# Functions\n",
    "\n",
    "Python is a high-level, general purpose programming language first released in 1991 by Guido van Rossum. Since then, it has become one of the most used languages in the world, and represents the *lingua franca* of data science. This notebook serves as a basic introduction to python. This tutorial neither serves as a comprehensive overview of python nor as a deep technical dive of any particular topic. The purpose is to provide basic principles of python and Jupyter to facilitate the other tutorials.\n",
    "\n",
    "Python provides functionality through the use of packages. These packages can be accessed through the import command. Packages help to extend functionality by providing new abilities and improve performance by providing access to functions written in faster coding languages (C/C++/Rust). To access packages, we just use the import command."
   ]
  },
  {
   "cell_type": "code",
   "execution_count": null,
   "id": "dc10d8ff-2e4b-4cf7-afe5-c7d766fed6c7",
   "metadata": {},
   "outputs": [],
   "source": [
    "def calc_mean(x):\n",
    "    x_sum = 0\n",
    "    for x0 in x:\n",
    "        x_sum += x0\n",
    "    x_mean = x_sum / len(x)\n",
    "    return x_mean"
   ]
  },
  {
   "cell_type": "code",
   "execution_count": null,
   "id": "eaa0b678-bd18-4099-abf8-45df4f29d76d",
   "metadata": {},
   "outputs": [],
   "source": [
    "x_list_mean = calc_mean(x_list)\n",
    "print(f'x_list has mean {x_list_mean}')"
   ]
  },
  {
   "cell_type": "markdown",
   "id": "4c886866-8ea3-4dcd-a570-2d4f746cc73c",
   "metadata": {},
   "source": [
    "# Packages\n",
    "\n",
    "## Numpy\n",
    "\n",
    "NumPy is a fundamental scientific computing package available in python. Along with SciPy and Matplotlib, it forms a core group of scientific computing resources. For more information see https://numpy.org"
   ]
  },
  {
   "cell_type": "code",
   "execution_count": 20,
   "id": "78a69faf-9df1-41b9-b616-270683c614b4",
   "metadata": {},
   "outputs": [],
   "source": [
    "import numpy as np\n",
    "from time import process_time"
   ]
  },
  {
   "cell_type": "code",
   "execution_count": null,
   "id": "494a8dcc-322e-4e3a-beda-1164c0aa8f2b",
   "metadata": {},
   "outputs": [],
   "source": [
    "n_samples = int(1e8)\n",
    "\n",
    "x = np.random.random(n_samples)\n",
    "t0 = process_time()\n",
    "x_mean = calc_mean(x)\n",
    "t1 = process_time()\n",
    "print(f'> Python function returned value {x_mean} in {t1-t0} seconds')\n",
    "\n",
    "t0 = process_time()\n",
    "x_mean = np.mean(x)\n",
    "t1 = process_time()\n",
    "print(f'> Numpy function returned value {x_mean} in {t1-t0} seconds')"
   ]
  },
  {
   "cell_type": "markdown",
   "id": "7d5f19b3-e4a0-4991-9e88-d96388fb5e0e",
   "metadata": {},
   "source": [
    "## Pandas\n",
    "\n",
    "Pandas is a flexible data manipulation tool built on top of python (and available in other languages). It is a staple of data manipulation in data science. For more information see https://pandas.pydata.org"
   ]
  },
  {
   "cell_type": "code",
   "execution_count": 48,
   "id": "c5e4fd94-4416-426f-a546-2289df09bc2a",
   "metadata": {},
   "outputs": [],
   "source": [
    "import pandas as pd\n",
    "import scipy"
   ]
  },
  {
   "cell_type": "code",
   "execution_count": 46,
   "id": "dcc3ae81-2c91-47f0-97f9-801bbee252a3",
   "metadata": {},
   "outputs": [],
   "source": [
    "def pad_array(x0, cutoff=3):\n",
    "    x_new = np.zeros(cutoff)\n",
    "    n = np.min([cutoff, len(x0)])\n",
    "    i = cutoff - n\n",
    "    ii = len(x0) - n\n",
    "    x_new[i:] = x0[ii:]\n",
    "    return x_new\n",
    "\n",
    "def q1(x):\n",
    "    return np.quantile(x,0.25)\n",
    "\n",
    "def q3(x):\n",
    "    return np.quantile(x,0.75)"
   ]
  },
  {
   "cell_type": "code",
   "execution_count": 11,
   "id": "24ca6ac3-c067-4070-9ae8-3a9e99f8d0a7",
   "metadata": {},
   "outputs": [
    {
     "ename": "NameError",
     "evalue": "name 'x' is not defined",
     "output_type": "error",
     "traceback": [
      "\u001b[0;31m---------------------------------------------------------------------------\u001b[0m",
      "\u001b[0;31mNameError\u001b[0m                                 Traceback (most recent call last)",
      "Cell \u001b[0;32mIn[11], line 1\u001b[0m\n\u001b[0;32m----> 1\u001b[0m df \u001b[38;5;241m=\u001b[39m pd\u001b[38;5;241m.\u001b[39mDataFrame(\u001b[43mx\u001b[49m, columns\u001b[38;5;241m=\u001b[39m[\u001b[38;5;124m'\u001b[39m\u001b[38;5;124mvalues\u001b[39m\u001b[38;5;124m'\u001b[39m])\n\u001b[1;32m      2\u001b[0m df\n",
      "\u001b[0;31mNameError\u001b[0m: name 'x' is not defined"
     ]
    }
   ],
   "source": [
    "df = pd.DataFrame(x, columns=['values'])\n",
    "df"
   ]
  },
  {
   "cell_type": "code",
   "execution_count": null,
   "id": "22470418-b8f9-44e3-b937-d8bfce0720d0",
   "metadata": {},
   "outputs": [],
   "source": [
    "t0 = process_time()\n",
    "x_mean = df.mean()\n",
    "t1 = process_time()\n",
    "print(f'> Pandas function returned value {x_mean} in {t1-t0} seconds')"
   ]
  },
  {
   "cell_type": "markdown",
   "id": "7a760cf8-df4b-44a3-8106-48dee9b8ff16",
   "metadata": {},
   "source": [
    "### Groupby and Agg\n",
    "\n",
    "The pandas groupby function allows for data to be collected and grouped together by a certain value in one or more columns. As an example of the usefulness of this, consider data collection where patient vital signs are entered by patient identifier, value and timestamp. This will produce multiple entries for a single patient. To collect all of the data for a patient into a single row, the groupby function could be used. \n",
    "\n",
    "Using groupby returns a grouped object, which needs further processing to be used. Rows are collected together based on the column(s) specified, but we need to specify what operations should be used to create entries for each grouped object. This can be specified using the agg function, which can be used to aggregate the all associated entries together. Users can specify built in functions (like mean, median, mode, etc.) or pass user defined functions for custom transformations. \n",
    "\n",
    "For more information see https://pandas.pydata.org/docs/reference/api/pandas.DataFrame.groupby.html and https://pandas.pydata.org/docs/reference/api/pandas.DataFrame.agg.html"
   ]
  },
  {
   "cell_type": "code",
   "execution_count": 32,
   "id": "20e675a7-a39e-4070-a10c-229f65971870",
   "metadata": {},
   "outputs": [
    {
     "data": {
      "text/html": [
       "<div>\n",
       "<style scoped>\n",
       "    .dataframe tbody tr th:only-of-type {\n",
       "        vertical-align: middle;\n",
       "    }\n",
       "\n",
       "    .dataframe tbody tr th {\n",
       "        vertical-align: top;\n",
       "    }\n",
       "\n",
       "    .dataframe thead th {\n",
       "        text-align: right;\n",
       "    }\n",
       "</style>\n",
       "<table border=\"1\" class=\"dataframe\">\n",
       "  <thead>\n",
       "    <tr style=\"text-align: right;\">\n",
       "      <th></th>\n",
       "      <th>Patient</th>\n",
       "      <th>Timestamp</th>\n",
       "      <th>Value Type</th>\n",
       "      <th>Value</th>\n",
       "    </tr>\n",
       "  </thead>\n",
       "  <tbody>\n",
       "    <tr>\n",
       "      <th>0</th>\n",
       "      <td>001</td>\n",
       "      <td>1970-01-01 07:00:00</td>\n",
       "      <td>HR</td>\n",
       "      <td>80.0</td>\n",
       "    </tr>\n",
       "    <tr>\n",
       "      <th>1</th>\n",
       "      <td>002</td>\n",
       "      <td>1970-01-01 07:10:00</td>\n",
       "      <td>HR</td>\n",
       "      <td>57.0</td>\n",
       "    </tr>\n",
       "    <tr>\n",
       "      <th>2</th>\n",
       "      <td>001</td>\n",
       "      <td>1970-01-01 07:30:00</td>\n",
       "      <td>HR</td>\n",
       "      <td>82.0</td>\n",
       "    </tr>\n",
       "    <tr>\n",
       "      <th>3</th>\n",
       "      <td>001</td>\n",
       "      <td>1970-01-01 08:00:00</td>\n",
       "      <td>HR</td>\n",
       "      <td>77.0</td>\n",
       "    </tr>\n",
       "    <tr>\n",
       "      <th>4</th>\n",
       "      <td>002</td>\n",
       "      <td>1970-01-01 07:40:00</td>\n",
       "      <td>HR</td>\n",
       "      <td>61.0</td>\n",
       "    </tr>\n",
       "    <tr>\n",
       "      <th>5</th>\n",
       "      <td>001</td>\n",
       "      <td>1970-01-01 08:30:00</td>\n",
       "      <td>HR</td>\n",
       "      <td>72.0</td>\n",
       "    </tr>\n",
       "    <tr>\n",
       "      <th>6</th>\n",
       "      <td>003</td>\n",
       "      <td>1970-01-01 11:00:00</td>\n",
       "      <td>HR</td>\n",
       "      <td>91.0</td>\n",
       "    </tr>\n",
       "  </tbody>\n",
       "</table>\n",
       "</div>"
      ],
      "text/plain": [
       "  Patient           Timestamp Value Type  Value\n",
       "0     001 1970-01-01 07:00:00         HR   80.0\n",
       "1     002 1970-01-01 07:10:00         HR   57.0\n",
       "2     001 1970-01-01 07:30:00         HR   82.0\n",
       "3     001 1970-01-01 08:00:00         HR   77.0\n",
       "4     002 1970-01-01 07:40:00         HR   61.0\n",
       "5     001 1970-01-01 08:30:00         HR   72.0\n",
       "6     003 1970-01-01 11:00:00         HR   91.0"
      ]
     },
     "execution_count": 32,
     "metadata": {},
     "output_type": "execute_result"
    }
   ],
   "source": [
    "test_df = pd.DataFrame({'Patient': ['001', '002','001', '001','002','001','003'],\n",
    "                        'Timestamp': [\n",
    "                           '01/01/1970 07:00:00','01/01/1970 07:10:00','01/01/1970 07:30:00',\n",
    "                           '01/01/1970 08:00:00','01/01/1970 07:40:00','01/01/1970 08:30:00','01/01/1970 11:00:00'],\n",
    "                       'Value Type':['HR','HR','HR','HR','HR','HR','HR'],\n",
    "                       'Value':['80','57','82','77','61','72','91']\n",
    "                  })\n",
    "test_df = test_df.astype({'Value':'float32','Timestamp':'datetime64[ns]'})\n",
    "test_df"
   ]
  },
  {
   "cell_type": "code",
   "execution_count": 45,
   "id": "b4aae060-00e8-4481-a702-850b8ab0224d",
   "metadata": {},
   "outputs": [
    {
     "data": {
      "text/html": [
       "<div>\n",
       "<style scoped>\n",
       "    .dataframe tbody tr th:only-of-type {\n",
       "        vertical-align: middle;\n",
       "    }\n",
       "\n",
       "    .dataframe tbody tr th {\n",
       "        vertical-align: top;\n",
       "    }\n",
       "\n",
       "    .dataframe thead th {\n",
       "        text-align: right;\n",
       "    }\n",
       "</style>\n",
       "<table border=\"1\" class=\"dataframe\">\n",
       "  <thead>\n",
       "    <tr style=\"text-align: right;\">\n",
       "      <th></th>\n",
       "      <th>Patient</th>\n",
       "      <th>Value</th>\n",
       "    </tr>\n",
       "  </thead>\n",
       "  <tbody>\n",
       "    <tr>\n",
       "      <th>0</th>\n",
       "      <td>001</td>\n",
       "      <td>77.75</td>\n",
       "    </tr>\n",
       "    <tr>\n",
       "      <th>1</th>\n",
       "      <td>002</td>\n",
       "      <td>59.00</td>\n",
       "    </tr>\n",
       "    <tr>\n",
       "      <th>2</th>\n",
       "      <td>003</td>\n",
       "      <td>91.00</td>\n",
       "    </tr>\n",
       "  </tbody>\n",
       "</table>\n",
       "</div>"
      ],
      "text/plain": [
       "  Patient  Value\n",
       "0     001  77.75\n",
       "1     002  59.00\n",
       "2     003  91.00"
      ]
     },
     "execution_count": 45,
     "metadata": {},
     "output_type": "execute_result"
    }
   ],
   "source": [
    "test_df.groupby('Patient',as_index=False).agg({'Value':'mean'})"
   ]
  },
  {
   "cell_type": "code",
   "execution_count": 49,
   "id": "080dfc51-62e9-46dc-aa77-3ff3280903fc",
   "metadata": {},
   "outputs": [
    {
     "data": {
      "text/html": [
       "<div>\n",
       "<style scoped>\n",
       "    .dataframe tbody tr th:only-of-type {\n",
       "        vertical-align: middle;\n",
       "    }\n",
       "\n",
       "    .dataframe tbody tr th {\n",
       "        vertical-align: top;\n",
       "    }\n",
       "\n",
       "    .dataframe thead th {\n",
       "        text-align: right;\n",
       "    }\n",
       "</style>\n",
       "<table border=\"1\" class=\"dataframe\">\n",
       "  <thead>\n",
       "    <tr style=\"text-align: right;\">\n",
       "      <th></th>\n",
       "      <th>Patient_</th>\n",
       "      <th>Value_mean</th>\n",
       "      <th>Value_median</th>\n",
       "      <th>Value_mode</th>\n",
       "      <th>Value_std</th>\n",
       "      <th>Value_var</th>\n",
       "      <th>Value_kurtosis</th>\n",
       "      <th>Value_skew</th>\n",
       "      <th>Value_sum</th>\n",
       "      <th>Value_amin</th>\n",
       "      <th>Value_amax</th>\n",
       "      <th>Value_entropy</th>\n",
       "      <th>Value_variation</th>\n",
       "      <th>Value_q1</th>\n",
       "      <th>Value_q3</th>\n",
       "    </tr>\n",
       "  </thead>\n",
       "  <tbody>\n",
       "    <tr>\n",
       "      <th>0</th>\n",
       "      <td>001</td>\n",
       "      <td>77.75</td>\n",
       "      <td>78.5</td>\n",
       "      <td>(72.0, 1)</td>\n",
       "      <td>4.349329</td>\n",
       "      <td>18.916658</td>\n",
       "      <td>-1.204875</td>\n",
       "      <td>-0.478933</td>\n",
       "      <td>311.0</td>\n",
       "      <td>72.0</td>\n",
       "      <td>82.0</td>\n",
       "      <td>1.385111</td>\n",
       "      <td>0.048445</td>\n",
       "      <td>75.75</td>\n",
       "      <td>80.5</td>\n",
       "    </tr>\n",
       "    <tr>\n",
       "      <th>1</th>\n",
       "      <td>002</td>\n",
       "      <td>59.00</td>\n",
       "      <td>59.0</td>\n",
       "      <td>(57.0, 1)</td>\n",
       "      <td>2.828427</td>\n",
       "      <td>8.000000</td>\n",
       "      <td>-2.000000</td>\n",
       "      <td>0.000000</td>\n",
       "      <td>118.0</td>\n",
       "      <td>57.0</td>\n",
       "      <td>61.0</td>\n",
       "      <td>0.692572</td>\n",
       "      <td>0.033898</td>\n",
       "      <td>58.00</td>\n",
       "      <td>60.0</td>\n",
       "    </tr>\n",
       "    <tr>\n",
       "      <th>2</th>\n",
       "      <td>003</td>\n",
       "      <td>91.00</td>\n",
       "      <td>91.0</td>\n",
       "      <td>(91.0, 1)</td>\n",
       "      <td>NaN</td>\n",
       "      <td>NaN</td>\n",
       "      <td>NaN</td>\n",
       "      <td>NaN</td>\n",
       "      <td>91.0</td>\n",
       "      <td>91.0</td>\n",
       "      <td>91.0</td>\n",
       "      <td>0.000000</td>\n",
       "      <td>0.000000</td>\n",
       "      <td>91.00</td>\n",
       "      <td>91.0</td>\n",
       "    </tr>\n",
       "  </tbody>\n",
       "</table>\n",
       "</div>"
      ],
      "text/plain": [
       "  Patient_  Value_mean  Value_median Value_mode  Value_std  Value_var  \\\n",
       "0      001       77.75          78.5  (72.0, 1)   4.349329  18.916658   \n",
       "1      002       59.00          59.0  (57.0, 1)   2.828427   8.000000   \n",
       "2      003       91.00          91.0  (91.0, 1)        NaN        NaN   \n",
       "\n",
       "   Value_kurtosis  Value_skew  Value_sum  Value_amin  Value_amax  \\\n",
       "0       -1.204875   -0.478933      311.0        72.0        82.0   \n",
       "1       -2.000000    0.000000      118.0        57.0        61.0   \n",
       "2             NaN         NaN       91.0        91.0        91.0   \n",
       "\n",
       "   Value_entropy  Value_variation  Value_q1  Value_q3  \n",
       "0       1.385111         0.048445     75.75      80.5  \n",
       "1       0.692572         0.033898     58.00      60.0  \n",
       "2       0.000000         0.000000     91.00      91.0  "
      ]
     },
     "execution_count": 49,
     "metadata": {},
     "output_type": "execute_result"
    }
   ],
   "source": [
    "# We can also pass a list of functions like so\n",
    "\n",
    "f_list = [\n",
    "    'mean', \n",
    "    np.median, \n",
    "    scipy.stats.mode, \n",
    "    np.std, \n",
    "    np.var,\n",
    "    scipy.stats.kurtosis,\n",
    "    scipy.stats.skew,\n",
    "    np.sum,\n",
    "    np.min,\n",
    "    np.max,\n",
    "    scipy.stats.entropy,\n",
    "    scipy.stats.variation,\n",
    "    q1,\n",
    "    q3\n",
    "    ]\n",
    "\n",
    "test_group = test_df.groupby('Patient',as_index=False).agg({'Value':f_list})\n",
    "\n",
    "test_group.columns = test_group.columns.map('_'.join)\n",
    "test_group.reset_index(drop=True,inplace=True)\n",
    "test_group"
   ]
  },
  {
   "cell_type": "code",
   "execution_count": 42,
   "id": "ae0d166e-ae86-4500-836d-0ce1246648df",
   "metadata": {},
   "outputs": [
    {
     "data": {
      "text/html": [
       "<div>\n",
       "<style scoped>\n",
       "    .dataframe tbody tr th:only-of-type {\n",
       "        vertical-align: middle;\n",
       "    }\n",
       "\n",
       "    .dataframe tbody tr th {\n",
       "        vertical-align: top;\n",
       "    }\n",
       "\n",
       "    .dataframe thead th {\n",
       "        text-align: right;\n",
       "    }\n",
       "</style>\n",
       "<table border=\"1\" class=\"dataframe\">\n",
       "  <thead>\n",
       "    <tr style=\"text-align: right;\">\n",
       "      <th></th>\n",
       "      <th>Patient</th>\n",
       "      <th>Value</th>\n",
       "    </tr>\n",
       "  </thead>\n",
       "  <tbody>\n",
       "    <tr>\n",
       "      <th>0</th>\n",
       "      <td>001</td>\n",
       "      <td>[80.0, 82.0, 77.0, 72.0]</td>\n",
       "    </tr>\n",
       "    <tr>\n",
       "      <th>1</th>\n",
       "      <td>002</td>\n",
       "      <td>[57.0, 61.0]</td>\n",
       "    </tr>\n",
       "    <tr>\n",
       "      <th>2</th>\n",
       "      <td>003</td>\n",
       "      <td>[91.0]</td>\n",
       "    </tr>\n",
       "  </tbody>\n",
       "</table>\n",
       "</div>"
      ],
      "text/plain": [
       "  Patient                     Value\n",
       "0     001  [80.0, 82.0, 77.0, 72.0]\n",
       "1     002              [57.0, 61.0]\n",
       "2     003                    [91.0]"
      ]
     },
     "execution_count": 42,
     "metadata": {},
     "output_type": "execute_result"
    }
   ],
   "source": [
    "group_df = test_df.groupby('Patient',as_index=False).agg({'Value':list})\n",
    "group_df"
   ]
  },
  {
   "cell_type": "markdown",
   "id": "e4314002-68aa-4b57-9506-e55df1c07ecc",
   "metadata": {},
   "source": [
    "### Apply\n",
    "\n",
    "To make changes to a column, we can also use the apply function. Coupled with a lambda iterator, we can build a user defined function to transform a column in a custom way.\n",
    "\n",
    "For more information see https://pandas.pydata.org/docs/reference/api/pandas.DataFrame.apply.html"
   ]
  },
  {
   "cell_type": "code",
   "execution_count": 43,
   "id": "31071391-c501-4851-8945-3fdc4747739a",
   "metadata": {},
   "outputs": [
    {
     "data": {
      "text/html": [
       "<div>\n",
       "<style scoped>\n",
       "    .dataframe tbody tr th:only-of-type {\n",
       "        vertical-align: middle;\n",
       "    }\n",
       "\n",
       "    .dataframe tbody tr th {\n",
       "        vertical-align: top;\n",
       "    }\n",
       "\n",
       "    .dataframe thead th {\n",
       "        text-align: right;\n",
       "    }\n",
       "</style>\n",
       "<table border=\"1\" class=\"dataframe\">\n",
       "  <thead>\n",
       "    <tr style=\"text-align: right;\">\n",
       "      <th></th>\n",
       "      <th>Patient</th>\n",
       "      <th>Value</th>\n",
       "      <th>Value_pad</th>\n",
       "    </tr>\n",
       "  </thead>\n",
       "  <tbody>\n",
       "    <tr>\n",
       "      <th>0</th>\n",
       "      <td>001</td>\n",
       "      <td>[80.0, 82.0, 77.0, 72.0]</td>\n",
       "      <td>[82.0, 77.0, 72.0]</td>\n",
       "    </tr>\n",
       "    <tr>\n",
       "      <th>1</th>\n",
       "      <td>002</td>\n",
       "      <td>[57.0, 61.0]</td>\n",
       "      <td>[0.0, 57.0, 61.0]</td>\n",
       "    </tr>\n",
       "    <tr>\n",
       "      <th>2</th>\n",
       "      <td>003</td>\n",
       "      <td>[91.0]</td>\n",
       "      <td>[0.0, 0.0, 91.0]</td>\n",
       "    </tr>\n",
       "  </tbody>\n",
       "</table>\n",
       "</div>"
      ],
      "text/plain": [
       "  Patient                     Value           Value_pad\n",
       "0     001  [80.0, 82.0, 77.0, 72.0]  [82.0, 77.0, 72.0]\n",
       "1     002              [57.0, 61.0]   [0.0, 57.0, 61.0]\n",
       "2     003                    [91.0]    [0.0, 0.0, 91.0]"
      ]
     },
     "execution_count": 43,
     "metadata": {},
     "output_type": "execute_result"
    }
   ],
   "source": [
    "group_df['Value_pad'] = grouped_df.Value.apply(lambda x: pad_array(x, cutoff=3))\n",
    "group_df"
   ]
  },
  {
   "cell_type": "markdown",
   "id": "5428f938-b00d-4683-a34c-4cf242639889",
   "metadata": {},
   "source": [
    "## Scikit Learn\n",
    "\n",
    "Scikit-Learn offers simple, flexible tools for machine learning and predictive analytics. It is the *de facto* package for machine learning and provides tools to support all phases of the machine learning life cycle. For more information see https://scikit-learn.org/stable/"
   ]
  },
  {
   "cell_type": "code",
   "execution_count": 24,
   "id": "42158839-7b31-4f5f-a046-110659e5ca8f",
   "metadata": {},
   "outputs": [],
   "source": [
    "from sklearn.ensemble import RandomForestClassifier\n",
    "from sklearn.datasets import make_classification\n",
    "from sklearn.model_selection import train_test_split\n",
    "from sklearn.metrics import roc_auc_score"
   ]
  },
  {
   "cell_type": "code",
   "execution_count": 25,
   "id": "fe3b44f1-c3b5-435c-91e8-04ddf2c932dd",
   "metadata": {},
   "outputs": [
    {
     "name": "stdout",
     "output_type": "stream",
     "text": [
      "[[-0.01941594  1.2275616  -1.51232478]\n",
      " [ 0.69940899 -0.15222557  0.06109745]\n",
      " [ 1.2817935  -0.0572301  -1.4481825 ]\n",
      " ...\n",
      " [ 1.35207759  0.79044877  1.11381198]\n",
      " [ 2.79167392  0.40681725  4.19002012]\n",
      " [-1.4400929   1.63315846  2.18916863]]\n",
      "[0 1 1 0 0 1 1 1 1 0 0 1 0 0 1 0 0 0 0 0 1 0 0 0 1 0 1 0 1 0 0 1 0 1 0 0 1\n",
      " 1 0 0 0 0 0 0 1 1 0 0 0 0 1 0 0 1 1 0 0 1 1 0 1 1 1 0 1 1 0 0 0 0 1 0 1 1\n",
      " 0 0 1 1 0 1 0 0 1 0 1 0 0 1 0 0 1 0 1 0 1 1 1 1 0 0 1 0 1 1 0 1 1 1 0 1 0\n",
      " 1 1 1 1 1 0 0 0 1 0 1 0 0 1 0 0 1 0 0 0 1 0 1 0 0 1 1 1 0 1 0 0 0 1 1 1 1\n",
      " 1 0 0 1 0 0 1 1 0 0 1 0 1 0 0 1 1 0 0 1 0 1 1 0 1 1 0 1 1 1 1 0 1 1 0 1 1\n",
      " 1 0 1 1 0 0 0 1 1 1 0 1 1 0 0 0 1 1 0 0 1 1 0 0 0 1 1 0 0 1 1 1 0 1 1 1 1\n",
      " 0 0 0 0 0 1 1 0 0 0 0 0 1 0 1 1 0 0 1 1 1 1 1 0 1 1 1 0 0 1 0 0 0 0 1 0 1\n",
      " 0 1 1 0 1 1 1 0 1 1 0 0 0 0 1 1 0 1 1 0 0 0 1 0 0 0 0 1 0 1 1 1 1 1 0 1 0\n",
      " 1 0 1 1 1 1 1 1 1 0 0 0 0 1 1 1 0 0 1 0 0 1 0 0 0 1 0 1 1 0 1 0 0 0 1 0 1\n",
      " 1 0 1 1 0 0 1 1 1 1 0 0 1 1 0 0 1 0 1 1 1 1 1 0 1 0 0 1 0 0 0 0 1 0 0 0 1\n",
      " 0 1 1 1 1 1 1 1 0 1 1 0 1 0 1 0 0 0 1 1 0 1 1 1 1 1 1 0 0 0 1 1 0 1 1 1 1\n",
      " 1 0 1 1 0 1 1 1 1 0 1 1 0 0 1 1 0 1 0 1 0 1 1 1 0 1 0 1 1 1 0 0 0 1 0 1 0\n",
      " 1 1 0 1 0 1 1 0 0 1 1 0 1 0 0 1 1 1 0 0 1 1 0 0 0 1 0 0 0 0 1 1 1 1 1 0 0\n",
      " 1 0 1 0 1 0 0 0 1 1 1 0 0 1 0 0 1 1 0 1 0 0 1 0 0 0 0 1 1 0 1 0 0 1 0 1 1\n",
      " 1 0 1 0 1 1 1 0 0 1 1 0 1 0 0 1 1 1 0 1 1 1 1 0 1 0 1 1 0 1 1 0 0 1 1 0 0\n",
      " 0 0 1 0 0 1 0 0 1 0 0 1 1 1 1 0 0 1 0 0 1 1 0 1 1 1 1 0 1 1 0 0 0 0 0 0 1\n",
      " 1 1 0 0 1 1 0 0 1 1 0 0 1 0 0 0 0 0 1 0 1 0 1 1 1 1 1 1 0 1 1 1 1 0 1 1 0\n",
      " 0 0 0 0 0 0 1 1 1 1 1 1 0 0 0 0 0 0 0 0 1 1 0 1 0 1 0 0 1 1 1 0 0 1 1 1 0\n",
      " 1 0 0 1 0 0 0 0 0 1 1 1 1 0 1 0 1 1 0 0 0 0 1 0 1 1 1 0 1 1 0 1 0 1 0 0 1\n",
      " 1 1 1 1 0 0 0 1 0 0 0 0 0 0 1 1 0 0 1 0 1 1 0 0 0 0 0 0 0 0 1 1 0 1 1 1 0\n",
      " 0 0 0 0 0 1 0 0 1 1 0 1 1 1 1 0 0 1 1 0 0 0 0 0 1 0 1 1 1 1 0 1 0 1 0 0 1\n",
      " 1 1 0 0 1 0 0 1 0 0 0 1 0 0 1 1 0 1 1 1 0 1 0 0 1 0 0 1 1 1 0 0 1 1 1 1 1\n",
      " 0 0 1 0 1 0 0 1 1 0 1 1 0 1 0 0 0 1 1 0 0 0 0 0 1 0 0 0 0 0 0 1 0 1 1 1 1\n",
      " 1 0 1 1 1 1 0 0 1 0 1 1 1 1 1 0 1 1 1 1 0 0 0 0 1 0 1 1 1 0 0 1 0 1 0 1 1\n",
      " 0 0 1 0 0 0 1 0 0 1 0 1 1 0 1 1 0 0 0 0 1 0 0 0 0 1 0 1 0 0 1 1 1 0 0 1 0\n",
      " 0 0 1 0 0 1 1 0 1 0 0 1 0 0 1 0 0 1 0 0 0 0 0 1 1 0 1 0 1 0 1 0 1 0 1 1 0\n",
      " 0 0 1 0 1 1 1 0 0 0 1 0 0 0 1 0 1 0 1 0 0 1 0 1 1 0 1 1 1 0 0 0 0 1 1 1 1\n",
      " 0]\n"
     ]
    }
   ],
   "source": [
    "# Create a fake dataset\n",
    "X, y = make_classification(n_samples=1000, n_features=3, n_redundant=0, n_repeated=0, n_classes=2, class_sep=1.5)\n",
    "print(X)\n",
    "print(y)"
   ]
  },
  {
   "cell_type": "code",
   "execution_count": 26,
   "id": "6a469c5b-988f-4eca-aeca-8ffd997d8d8f",
   "metadata": {},
   "outputs": [],
   "source": [
    "# Split the data into a train and a test\n",
    "X_train, X_test, y_train, y_test = train_test_split(X, y, test_size=0.3, stratify=y) "
   ]
  },
  {
   "cell_type": "code",
   "execution_count": 27,
   "id": "c4d5ffe8-2518-4215-8aff-a87d23897882",
   "metadata": {},
   "outputs": [],
   "source": [
    "# Instantiate the classifier\n",
    "est = RandomForestClassifier()"
   ]
  },
  {
   "cell_type": "code",
   "execution_count": 28,
   "id": "311c658a-01ce-44ed-a6b6-2c11ab435e7b",
   "metadata": {},
   "outputs": [
    {
     "data": {
      "text/html": [
       "<style>#sk-container-id-1 {color: black;}#sk-container-id-1 pre{padding: 0;}#sk-container-id-1 div.sk-toggleable {background-color: white;}#sk-container-id-1 label.sk-toggleable__label {cursor: pointer;display: block;width: 100%;margin-bottom: 0;padding: 0.3em;box-sizing: border-box;text-align: center;}#sk-container-id-1 label.sk-toggleable__label-arrow:before {content: \"▸\";float: left;margin-right: 0.25em;color: #696969;}#sk-container-id-1 label.sk-toggleable__label-arrow:hover:before {color: black;}#sk-container-id-1 div.sk-estimator:hover label.sk-toggleable__label-arrow:before {color: black;}#sk-container-id-1 div.sk-toggleable__content {max-height: 0;max-width: 0;overflow: hidden;text-align: left;background-color: #f0f8ff;}#sk-container-id-1 div.sk-toggleable__content pre {margin: 0.2em;color: black;border-radius: 0.25em;background-color: #f0f8ff;}#sk-container-id-1 input.sk-toggleable__control:checked~div.sk-toggleable__content {max-height: 200px;max-width: 100%;overflow: auto;}#sk-container-id-1 input.sk-toggleable__control:checked~label.sk-toggleable__label-arrow:before {content: \"▾\";}#sk-container-id-1 div.sk-estimator input.sk-toggleable__control:checked~label.sk-toggleable__label {background-color: #d4ebff;}#sk-container-id-1 div.sk-label input.sk-toggleable__control:checked~label.sk-toggleable__label {background-color: #d4ebff;}#sk-container-id-1 input.sk-hidden--visually {border: 0;clip: rect(1px 1px 1px 1px);clip: rect(1px, 1px, 1px, 1px);height: 1px;margin: -1px;overflow: hidden;padding: 0;position: absolute;width: 1px;}#sk-container-id-1 div.sk-estimator {font-family: monospace;background-color: #f0f8ff;border: 1px dotted black;border-radius: 0.25em;box-sizing: border-box;margin-bottom: 0.5em;}#sk-container-id-1 div.sk-estimator:hover {background-color: #d4ebff;}#sk-container-id-1 div.sk-parallel-item::after {content: \"\";width: 100%;border-bottom: 1px solid gray;flex-grow: 1;}#sk-container-id-1 div.sk-label:hover label.sk-toggleable__label {background-color: #d4ebff;}#sk-container-id-1 div.sk-serial::before {content: \"\";position: absolute;border-left: 1px solid gray;box-sizing: border-box;top: 0;bottom: 0;left: 50%;z-index: 0;}#sk-container-id-1 div.sk-serial {display: flex;flex-direction: column;align-items: center;background-color: white;padding-right: 0.2em;padding-left: 0.2em;position: relative;}#sk-container-id-1 div.sk-item {position: relative;z-index: 1;}#sk-container-id-1 div.sk-parallel {display: flex;align-items: stretch;justify-content: center;background-color: white;position: relative;}#sk-container-id-1 div.sk-item::before, #sk-container-id-1 div.sk-parallel-item::before {content: \"\";position: absolute;border-left: 1px solid gray;box-sizing: border-box;top: 0;bottom: 0;left: 50%;z-index: -1;}#sk-container-id-1 div.sk-parallel-item {display: flex;flex-direction: column;z-index: 1;position: relative;background-color: white;}#sk-container-id-1 div.sk-parallel-item:first-child::after {align-self: flex-end;width: 50%;}#sk-container-id-1 div.sk-parallel-item:last-child::after {align-self: flex-start;width: 50%;}#sk-container-id-1 div.sk-parallel-item:only-child::after {width: 0;}#sk-container-id-1 div.sk-dashed-wrapped {border: 1px dashed gray;margin: 0 0.4em 0.5em 0.4em;box-sizing: border-box;padding-bottom: 0.4em;background-color: white;}#sk-container-id-1 div.sk-label label {font-family: monospace;font-weight: bold;display: inline-block;line-height: 1.2em;}#sk-container-id-1 div.sk-label-container {text-align: center;}#sk-container-id-1 div.sk-container {/* jupyter's `normalize.less` sets `[hidden] { display: none; }` but bootstrap.min.css set `[hidden] { display: none !important; }` so we also need the `!important` here to be able to override the default hidden behavior on the sphinx rendered scikit-learn.org. See: https://github.com/scikit-learn/scikit-learn/issues/21755 */display: inline-block !important;position: relative;}#sk-container-id-1 div.sk-text-repr-fallback {display: none;}</style><div id=\"sk-container-id-1\" class=\"sk-top-container\"><div class=\"sk-text-repr-fallback\"><pre>RandomForestClassifier()</pre><b>In a Jupyter environment, please rerun this cell to show the HTML representation or trust the notebook. <br />On GitHub, the HTML representation is unable to render, please try loading this page with nbviewer.org.</b></div><div class=\"sk-container\" hidden><div class=\"sk-item\"><div class=\"sk-estimator sk-toggleable\"><input class=\"sk-toggleable__control sk-hidden--visually\" id=\"sk-estimator-id-1\" type=\"checkbox\" checked><label for=\"sk-estimator-id-1\" class=\"sk-toggleable__label sk-toggleable__label-arrow\">RandomForestClassifier</label><div class=\"sk-toggleable__content\"><pre>RandomForestClassifier()</pre></div></div></div></div></div>"
      ],
      "text/plain": [
       "RandomForestClassifier()"
      ]
     },
     "execution_count": 28,
     "metadata": {},
     "output_type": "execute_result"
    }
   ],
   "source": [
    "# Fit the classifier to the training data\n",
    "est.fit(X_train, y_train)"
   ]
  },
  {
   "cell_type": "code",
   "execution_count": 29,
   "id": "a4b27ee4-fc8e-4d16-b563-132a6537f94c",
   "metadata": {},
   "outputs": [],
   "source": [
    "# Make a prediction on the test data\n",
    "y_pred = est.predict(X_test)"
   ]
  },
  {
   "cell_type": "code",
   "execution_count": 30,
   "id": "bf56aeec-0e37-4766-947c-1aec1f1e94a3",
   "metadata": {},
   "outputs": [
    {
     "data": {
      "text/plain": [
       "0.9900217787457221"
      ]
     },
     "execution_count": 30,
     "metadata": {},
     "output_type": "execute_result"
    }
   ],
   "source": [
    "# Calculate AUC on the test data\n",
    "roc_auc_score(y_test, y_pred)"
   ]
  }
 ],
 "metadata": {
  "kernelspec": {
   "display_name": "Python 3 (ipykernel)",
   "language": "python",
   "name": "python3"
  },
  "language_info": {
   "codemirror_mode": {
    "name": "ipython",
    "version": 3
   },
   "file_extension": ".py",
   "mimetype": "text/x-python",
   "name": "python",
   "nbconvert_exporter": "python",
   "pygments_lexer": "ipython3",
   "version": "3.10.9"
  }
 },
 "nbformat": 4,
 "nbformat_minor": 5
}
